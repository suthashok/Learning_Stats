{
 "cells": [
  {
   "cell_type": "markdown",
   "id": "0de5c979-f318-4bf7-9315-94bd4ba47473",
   "metadata": {},
   "source": [
    "# 📘 Based on the Book: Practical Statistics for Data Scientists\n",
    "## 🔍 Overview\n",
    "Python Implementation of Mean Median (Trimmed, Weighted etc).\n",
    "\n",
    "## 🛠️ Setup\n",
    "Pandas.\n",
    "\n",
    "## 📊 Data\n",
    "Available in below GitHub Repo:\n",
    "https://github.com/gedeck/practical-statistics-for-data-scientists/blob/master/data/state.csv\n"
   ]
  },
  {
   "cell_type": "code",
   "execution_count": 1,
   "id": "311142c0-78b1-4124-8b4c-fe5312dedfe7",
   "metadata": {},
   "outputs": [],
   "source": [
    "import pandas as pd"
   ]
  },
  {
   "cell_type": "code",
   "execution_count": 16,
   "id": "3a3bd891-47c1-4083-8387-1faad93aea1c",
   "metadata": {},
   "outputs": [],
   "source": [
    "from scipy import stats"
   ]
  },
  {
   "cell_type": "code",
   "execution_count": 19,
   "id": "15dfc996-cbd4-4f28-8057-eae7cae0069d",
   "metadata": {},
   "outputs": [],
   "source": [
    "import numpy as np"
   ]
  },
  {
   "cell_type": "code",
   "execution_count": 30,
   "id": "7a4f6cc1-51d9-4cd6-aecd-7006616804fe",
   "metadata": {},
   "outputs": [],
   "source": [
    "from statsmodels import robust"
   ]
  },
  {
   "cell_type": "code",
   "execution_count": 7,
   "id": "13a276ee-def0-4bb2-a23f-5b19cdf536e8",
   "metadata": {},
   "outputs": [],
   "source": [
    "df=pd.read_csv('./Data/state.csv')"
   ]
  },
  {
   "cell_type": "code",
   "execution_count": 8,
   "id": "8b31a122-c947-46cb-b894-913c5c47b228",
   "metadata": {},
   "outputs": [
    {
     "data": {
      "text/html": [
       "<div>\n",
       "<style scoped>\n",
       "    .dataframe tbody tr th:only-of-type {\n",
       "        vertical-align: middle;\n",
       "    }\n",
       "\n",
       "    .dataframe tbody tr th {\n",
       "        vertical-align: top;\n",
       "    }\n",
       "\n",
       "    .dataframe thead th {\n",
       "        text-align: right;\n",
       "    }\n",
       "</style>\n",
       "<table border=\"1\" class=\"dataframe\">\n",
       "  <thead>\n",
       "    <tr style=\"text-align: right;\">\n",
       "      <th></th>\n",
       "      <th>State</th>\n",
       "      <th>Population</th>\n",
       "      <th>Murder.Rate</th>\n",
       "      <th>Abbreviation</th>\n",
       "    </tr>\n",
       "  </thead>\n",
       "  <tbody>\n",
       "    <tr>\n",
       "      <th>0</th>\n",
       "      <td>Alabama</td>\n",
       "      <td>4779736</td>\n",
       "      <td>5.7</td>\n",
       "      <td>AL</td>\n",
       "    </tr>\n",
       "    <tr>\n",
       "      <th>1</th>\n",
       "      <td>Alaska</td>\n",
       "      <td>710231</td>\n",
       "      <td>5.6</td>\n",
       "      <td>AK</td>\n",
       "    </tr>\n",
       "    <tr>\n",
       "      <th>2</th>\n",
       "      <td>Arizona</td>\n",
       "      <td>6392017</td>\n",
       "      <td>4.7</td>\n",
       "      <td>AZ</td>\n",
       "    </tr>\n",
       "    <tr>\n",
       "      <th>3</th>\n",
       "      <td>Arkansas</td>\n",
       "      <td>2915918</td>\n",
       "      <td>5.6</td>\n",
       "      <td>AR</td>\n",
       "    </tr>\n",
       "    <tr>\n",
       "      <th>4</th>\n",
       "      <td>California</td>\n",
       "      <td>37253956</td>\n",
       "      <td>4.4</td>\n",
       "      <td>CA</td>\n",
       "    </tr>\n",
       "  </tbody>\n",
       "</table>\n",
       "</div>"
      ],
      "text/plain": [
       "        State  Population  Murder.Rate Abbreviation\n",
       "0     Alabama     4779736          5.7           AL\n",
       "1      Alaska      710231          5.6           AK\n",
       "2     Arizona     6392017          4.7           AZ\n",
       "3    Arkansas     2915918          5.6           AR\n",
       "4  California    37253956          4.4           CA"
      ]
     },
     "execution_count": 8,
     "metadata": {},
     "output_type": "execute_result"
    }
   ],
   "source": [
    "df.head(5)"
   ]
  },
  {
   "cell_type": "markdown",
   "id": "63d29a98-e1b1-4fd1-b6b7-fcbc10e6e971",
   "metadata": {},
   "source": [
    "#### Measure of Central Tendancy"
   ]
  },
  {
   "cell_type": "code",
   "execution_count": 11,
   "id": "ec3f78b7-791e-4214-a2ac-0eac58109e96",
   "metadata": {},
   "outputs": [
    {
     "name": "stdout",
     "output_type": "stream",
     "text": [
      "6162876.3\n"
     ]
    }
   ],
   "source": [
    "# 1. Mean Population across states\n",
    "print(df['Population'].mean())"
   ]
  },
  {
   "cell_type": "code",
   "execution_count": 12,
   "id": "a35214c9-88d9-4a78-9a81-b783840d70e5",
   "metadata": {},
   "outputs": [
    {
     "name": "stdout",
     "output_type": "stream",
     "text": [
      "4436369.5\n"
     ]
    }
   ],
   "source": [
    "# 2. Median Population across states {Robust to Outliers}\n",
    "print(df['Population'].median())"
   ]
  },
  {
   "cell_type": "code",
   "execution_count": 18,
   "id": "3e1ca790-f52b-4f71-8f06-fa69c23204db",
   "metadata": {},
   "outputs": [
    {
     "name": "stdout",
     "output_type": "stream",
     "text": [
      "4783697.125\n"
     ]
    }
   ],
   "source": [
    "# 3. Trimmed Mean Population across states\n",
    "print(stats.trim_mean(df['Population'],0.1))"
   ]
  },
  {
   "cell_type": "code",
   "execution_count": 20,
   "id": "4df184d0-c7db-4dcc-935d-98ca3d959a3c",
   "metadata": {},
   "outputs": [
    {
     "name": "stdout",
     "output_type": "stream",
     "text": [
      "4.445833981123393\n"
     ]
    }
   ],
   "source": [
    "# 4. Weighted Mean Population across states\n",
    "print(np.average(df['Murder.Rate'],weights=df['Population']))"
   ]
  },
  {
   "cell_type": "markdown",
   "id": "341d561b-58cd-4e2b-b713-19020558cd91",
   "metadata": {},
   "source": [
    "#### Measure of Variability"
   ]
  },
  {
   "cell_type": "code",
   "execution_count": 21,
   "id": "cce1b411-3689-449b-a9f1-1b39dc2a6069",
   "metadata": {},
   "outputs": [
    {
     "name": "stdout",
     "output_type": "stream",
     "text": [
      "6848235.347401142\n"
     ]
    }
   ],
   "source": [
    "# 1. Standard Deviation\n",
    "print(df['Population'].std())"
   ]
  },
  {
   "cell_type": "code",
   "execution_count": 22,
   "id": "018f603f-59e0-462e-83ae-a140ffe1dc84",
   "metadata": {},
   "outputs": [
    {
     "name": "stdout",
     "output_type": "stream",
     "text": [
      "4847308.0\n"
     ]
    }
   ],
   "source": [
    "# 2 IQR (75th percentile - 25th percentile) {Robust to Outliers}\n",
    "print(df['Population'].quantile(0.75)-df['Population'].quantile(0.25))"
   ]
  },
  {
   "cell_type": "code",
   "execution_count": 32,
   "id": "e4bdb521-56fb-44f9-b888-a8e75f1678c9",
   "metadata": {},
   "outputs": [
    {
     "name": "stdout",
     "output_type": "stream",
     "text": [
      "3849876.1459979336\n"
     ]
    }
   ],
   "source": [
    "# 3 Median Absolute Deviation {Robust to Outliers}\n",
    "print(robust.scale.mad(df['Population']))"
   ]
  },
  {
   "cell_type": "markdown",
   "id": "c3fe484b-e39d-4000-a216-643c7def6dcd",
   "metadata": {},
   "source": [
    "#### Exploring the Distributions"
   ]
  },
  {
   "cell_type": "code",
   "execution_count": 33,
   "id": "1648545d-5d39-4ee9-9eb0-a4715331c6c2",
   "metadata": {},
   "outputs": [
    {
     "data": {
      "text/plain": [
       "0.05    1.600\n",
       "0.10    1.890\n",
       "0.25    2.425\n",
       "0.50    4.000\n",
       "0.75    5.550\n",
       "0.95    6.510\n",
       "Name: Murder.Rate, dtype: float64"
      ]
     },
     "execution_count": 33,
     "metadata": {},
     "output_type": "execute_result"
    }
   ],
   "source": [
    "# 1 Box Plot and Percentiles\n",
    "df['Murder.Rate'].quantile([0.05,0.10,0.25,0.50,0.75,0.95])"
   ]
  },
  {
   "cell_type": "code",
   "execution_count": 38,
   "id": "04e60364-e7d6-4ca0-84f2-9ed7df9d23d9",
   "metadata": {},
   "outputs": [
    {
     "data": {
      "text/plain": [
       "<Axes: >"
      ]
     },
     "execution_count": 38,
     "metadata": {},
     "output_type": "execute_result"
    },
    {
     "data": {
      "image/png": "[encoded data removed]",
      "text/plain": [
       "<Figure size 640x480 with 1 Axes>"
      ]
     },
     "metadata": {},
     "output_type": "display_data"
    }
   ],
   "source": [
    "df['Murder.Rate'].plot.box()"
   ]
  },
  {
   "cell_type": "code",
   "execution_count": 39,
   "id": "54247ba9-21a8-441d-be43-8864a4fb0fce",
   "metadata": {},
   "outputs": [
    {
     "data": {
      "text/plain": [
       "<Axes: >"
      ]
     },
     "execution_count": 39,
     "metadata": {},
     "output_type": "execute_result"
    },
    {
     "data": {
      "image/png": "[encoded data removed]",
      "text/plain": [
       "<Figure size 640x480 with 1 Axes>"
      ]
     },
     "metadata": {},
     "output_type": "display_data"
    }
   ],
   "source": [
    "df['Population'].plot.box()"
   ]
  },
  {
   "cell_type": "code",
   "execution_count": 41,
   "id": "9d655cf2-0d69-4866-a1f7-2421190df5ad",
   "metadata": {},
   "outputs": [
    {
     "data": {
      "text/plain": [
       "Population\n",
       "(526935.67, 3899110.545]        24\n",
       "(3899110.545, 7234595.091]      14\n",
       "(7234595.091, 10570079.636]      5\n",
       "(10570079.636, 13905564.182]     3\n",
       "(17241048.727, 20576533.273]     2\n",
       "(33918471.455, 37253956.0]       1\n",
       "(23912017.818, 27247502.364]     1\n",
       "(20576533.273, 23912017.818]     0\n",
       "(13905564.182, 17241048.727]     0\n",
       "(27247502.364, 30582986.909]     0\n",
       "(30582986.909, 33918471.455]     0\n",
       "Name: count, dtype: int64"
      ]
     },
     "execution_count": 41,
     "metadata": {},
     "output_type": "execute_result"
    }
   ],
   "source": [
    "# 2 Histograms\n",
    "binned_pop=pd.cut(df['Population'],11)\n",
    "binned_pop.value_counts()"
   ]
  },
  {
   "cell_type": "code",
   "execution_count": 42,
   "id": "24f786ee-2c08-473e-b39f-86ac2a2df5e4",
   "metadata": {},
   "outputs": [
    {
     "data": {
      "text/plain": [
       "<Axes: ylabel='Frequency'>"
      ]
     },
     "execution_count": 42,
     "metadata": {},
     "output_type": "execute_result"
    },
    {
     "data": {
      "image/png": "[encoded data removed]",
      "text/plain": [
       "<Figure size 640x480 with 1 Axes>"
      ]
     },
     "metadata": {},
     "output_type": "display_data"
    }
   ],
   "source": [
    "df['Population'].plot.hist()"
   ]
  },
  {
   "cell_type": "markdown",
   "id": "5bfe9706-c1ae-4abc-ac7c-4da36290fc99",
   "metadata": {},
   "source": [
    "```sql\n",
    "Pro Tip:\n",
    "\n",
    "    Both Percentile and Frequency table creates Bins, however \n",
    "    Percentile = Equal count with variable Range\n",
    "    Frequency table = Different counts with Equal Range\n",
    "\n",
    "```"
   ]
  },
  {
   "cell_type": "code",
   "execution_count": 47,
   "id": "21352227-ca03-4f9d-9d0f-7a37d796a3aa",
   "metadata": {},
   "outputs": [
    {
     "data": {
      "text/plain": [
       "<Axes: ylabel='Density'>"
      ]
     },
     "execution_count": 47,
     "metadata": {},
     "output_type": "execute_result"
    },
    {
     "data": {
      "image/png": "[encoded data removed]",
      "text/plain": [
       "<Figure size 640x480 with 1 Axes>"
      ]
     },
     "metadata": {},
     "output_type": "display_data"
    }
   ],
   "source": [
    "# 3 Density Plot (Total Area Under this plot is 1, histogram is proportion rather than count)\n",
    "df['Murder.Rate'].plot.hist(density=True)\n",
    "df['Murder.Rate'].plot.density()"
   ]
  },
  {
   "cell_type": "code",
   "execution_count": null,
   "id": "3fd8a84b-93aa-498c-9a8b-dfbe59426db5",
   "metadata": {},
   "outputs": [],
   "source": []
  }
 ],
 "metadata": {
  "kernelspec": {
   "display_name": "Python 3 (ipykernel)",
   "language": "python",
   "name": "python3"
  },
  "language_info": {
   "codemirror_mode": {
    "name": "ipython",
    "version": 3
   },
   "file_extension": ".py",
   "mimetype": "text/x-python",
   "name": "python",
   "nbconvert_exporter": "python",
   "pygments_lexer": "ipython3",
   "version": "3.10.0"
  }
 },
 "nbformat": 4,
 "nbformat_minor": 5
}
